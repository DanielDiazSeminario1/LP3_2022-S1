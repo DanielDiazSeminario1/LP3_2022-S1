{
 "cells": [
  {
   "cell_type": "markdown",
   "id": "a9aee38d",
   "metadata": {},
   "source": [
    "# SEMANA 05\n",
    "Daniel Diaz Seminario"
   ]
  },
  {
   "cell_type": "markdown",
   "id": "50ea2eee",
   "metadata": {},
   "source": [
    "temas"
   ]
  },
  {
   "cell_type": "markdown",
   "id": "fc6e8c5f",
   "metadata": {},
   "source": [
    "1. Números\n",
    "2. Variables\n",
    "3. Manejo de Cadenas\n",
    "4. Ingreso de datos por teclado\n",
    "5. Operadores"
   ]
  },
  {
   "cell_type": "markdown",
   "id": "668bb0eb",
   "metadata": {},
   "source": [
    "tema"
   ]
  },
  {
   "cell_type": "markdown",
   "id": "e873197c",
   "metadata": {},
   "source": [
    "5. Operadores"
   ]
  },
  {
   "cell_type": "markdown",
   "id": "4178ff21",
   "metadata": {},
   "source": [
    "5.1 Operadores Aritmeticos:\n",
    "#Se tiene: +; -; /; *; //; **"
   ]
  },
  {
   "cell_type": "code",
   "execution_count": 10,
   "id": "14afbcfc",
   "metadata": {},
   "outputs": [
    {
     "name": "stdout",
     "output_type": "stream",
     "text": [
      "13\n",
      "7\n",
      "30\n",
      "division 3.33\n",
      "1\n",
      "1000\n",
      "3\n"
     ]
    }
   ],
   "source": [
    "numero1 = 10\n",
    "numero2 = 3\n",
    "suma = numero1+numero2\n",
    "resta = numero1-numero2\n",
    "multiplicacion = numero1*numero2\n",
    "division = numero1/numero2\n",
    "residuo = numero1%numero2\n",
    "potencia = numero1**numero2\n",
    "cociente = numero1//numero2\n",
    "print(suma)\n",
    "print(resta)\n",
    "print(multiplicacion)\n",
    "print(f\"division {division:1.2f}\")\n",
    "print(residuo)\n",
    "print(potencia)\n",
    "print(cociente)"
   ]
  },
  {
   "cell_type": "code",
   "execution_count": 11,
   "id": "cdbc3fa9",
   "metadata": {},
   "outputs": [
    {
     "name": "stdout",
     "output_type": "stream",
     "text": [
      "8\n"
     ]
    }
   ],
   "source": [
    "#5.2 operadores de asignación\n",
    "#se tienen =; +=; -=; *=; /=; **=\n",
    "numero = 5\n",
    "numero = numero + 3\n",
    "print(numero)"
   ]
  },
  {
   "cell_type": "code",
   "execution_count": 13,
   "id": "bfa5a6ec",
   "metadata": {},
   "outputs": [
    {
     "name": "stdout",
     "output_type": "stream",
     "text": [
      "8\n"
     ]
    }
   ],
   "source": [
    "numero=5\n",
    "numero+=3\n",
    "print(numero)"
   ]
  },
  {
   "cell_type": "code",
   "execution_count": 15,
   "id": "4d5dfbb2",
   "metadata": {},
   "outputs": [
    {
     "name": "stdout",
     "output_type": "stream",
     "text": [
      "125\n"
     ]
    }
   ],
   "source": [
    "numero = 5\n",
    "numero = numero **3\n",
    "print(numero)"
   ]
  },
  {
   "cell_type": "code",
   "execution_count": 17,
   "id": "f6a6a93f",
   "metadata": {},
   "outputs": [
    {
     "name": "stdout",
     "output_type": "stream",
     "text": [
      "125\n"
     ]
    }
   ],
   "source": [
    "numero = 5\n",
    "numero**= 3\n",
    "print(numero)"
   ]
  },
  {
   "cell_type": "code",
   "execution_count": 18,
   "id": "1b2d668c",
   "metadata": {},
   "outputs": [],
   "source": [
    "#5.3 operadores de comparación\n",
    "#se tiene: ==, !=, <, >, <=, >=\n"
   ]
  },
  {
   "cell_type": "code",
   "execution_count": 20,
   "id": "1a33fdcd",
   "metadata": {},
   "outputs": [
    {
     "data": {
      "text/plain": [
       "False"
      ]
     },
     "execution_count": 20,
     "metadata": {},
     "output_type": "execute_result"
    }
   ],
   "source": [
    "# ==\n",
    "numero1 = 5\n",
    "numero2 = 2\n",
    "numero1 == numero2"
   ]
  },
  {
   "cell_type": "code",
   "execution_count": 21,
   "id": "007889aa",
   "metadata": {},
   "outputs": [
    {
     "data": {
      "text/plain": [
       "True"
      ]
     },
     "execution_count": 21,
     "metadata": {},
     "output_type": "execute_result"
    }
   ],
   "source": [
    "#con las cadenas funciona igual\n",
    "nombre1 = \"Frank\"\n",
    "nombre2 = \"Frank\"\n",
    "nombre1==nombre2"
   ]
  },
  {
   "cell_type": "code",
   "execution_count": 22,
   "id": "2d9e5ff8",
   "metadata": {},
   "outputs": [],
   "source": [
    "#5.4 Operadores Lógicos\n",
    "#Se tienen: and, or, not\n",
    "numero1 = 5\n",
    "numero2 = 6\n",
    "numero3 = 7\n",
    "numero4 = 8\n"
   ]
  },
  {
   "cell_type": "code",
   "execution_count": 23,
   "id": "8da9fad1",
   "metadata": {},
   "outputs": [
    {
     "data": {
      "text/plain": [
       "True"
      ]
     },
     "execution_count": 23,
     "metadata": {},
     "output_type": "execute_result"
    }
   ],
   "source": [
    "numero1<numero2"
   ]
  },
  {
   "cell_type": "code",
   "execution_count": 24,
   "id": "bd8c9b3f",
   "metadata": {},
   "outputs": [
    {
     "data": {
      "text/plain": [
       "False"
      ]
     },
     "execution_count": 24,
     "metadata": {},
     "output_type": "execute_result"
    }
   ],
   "source": [
    "#el not invierte el resultado\n",
    "not(numero1<numero2)"
   ]
  },
  {
   "cell_type": "code",
   "execution_count": 25,
   "id": "f4e56b78",
   "metadata": {},
   "outputs": [
    {
     "data": {
      "text/plain": [
       "True"
      ]
     },
     "execution_count": 25,
     "metadata": {},
     "output_type": "execute_result"
    }
   ],
   "source": [
    "numero1<numero2 and numero3<numero4"
   ]
  },
  {
   "cell_type": "code",
   "execution_count": 26,
   "id": "0a94ccd1",
   "metadata": {},
   "outputs": [
    {
     "data": {
      "text/plain": [
       "True"
      ]
     },
     "execution_count": 26,
     "metadata": {},
     "output_type": "execute_result"
    }
   ],
   "source": [
    "#se puede usar parentesis para ordenar tu operación\n",
    "(numero1<numero2)and(numero3<numero4) or (numero3>numero4)"
   ]
  },
  {
   "cell_type": "code",
   "execution_count": 27,
   "id": "fca45b6b",
   "metadata": {},
   "outputs": [],
   "source": [
    "#5.5 operadores de pertenencia\n",
    "#se tiene: in, not in\n",
    "aula = [\"Juan\", \"Daniel\",\"Ruben\"]\n",
    "alumno1 = \"Diego\"\n",
    "alumno2 = \"Juan\""
   ]
  },
  {
   "cell_type": "code",
   "execution_count": 28,
   "id": "8a84d8e4",
   "metadata": {},
   "outputs": [
    {
     "data": {
      "text/plain": [
       "False"
      ]
     },
     "execution_count": 28,
     "metadata": {},
     "output_type": "execute_result"
    }
   ],
   "source": [
    "#¿Diego está en aula?\n",
    "alumno1 in aula"
   ]
  },
  {
   "cell_type": "code",
   "execution_count": 29,
   "id": "7c17f066",
   "metadata": {},
   "outputs": [
    {
     "data": {
      "text/plain": [
       "True"
      ]
     },
     "execution_count": 29,
     "metadata": {},
     "output_type": "execute_result"
    }
   ],
   "source": [
    "#¿Juan está en aula?\n",
    "alumno2 in aula"
   ]
  },
  {
   "cell_type": "code",
   "execution_count": 30,
   "id": "e1184cb1",
   "metadata": {},
   "outputs": [
    {
     "data": {
      "text/plain": [
       "True"
      ]
     },
     "execution_count": 30,
     "metadata": {},
     "output_type": "execute_result"
    }
   ],
   "source": [
    "#¿Diego no está en aula?\n",
    "alumno1 not in aula"
   ]
  },
  {
   "cell_type": "code",
   "execution_count": 31,
   "id": "2c62bad6",
   "metadata": {},
   "outputs": [
    {
     "data": {
      "text/plain": [
       "False"
      ]
     },
     "execution_count": 31,
     "metadata": {},
     "output_type": "execute_result"
    }
   ],
   "source": [
    "#¿Juan no está en aula?\n",
    "alumno2 not in aula"
   ]
  },
  {
   "cell_type": "code",
   "execution_count": 32,
   "id": "174ab9f8",
   "metadata": {},
   "outputs": [],
   "source": [
    "#5.6 Operadores de identidad\n",
    "#se tienen: is; is not"
   ]
  },
  {
   "cell_type": "code",
   "execution_count": 34,
   "id": "273f0049",
   "metadata": {},
   "outputs": [],
   "source": [
    "aula1 = [\"Juan\", \"Daniel\", \"Ruben\"]\n",
    "aula2 = [\"Juan\", \"Daniel\", \"Ruben\"]\n",
    "#Vamos a invitar que aula3 va a compartir el mismo objeto\n",
    "#que aula1\n",
    "aula3 = aula1"
   ]
  },
  {
   "cell_type": "code",
   "execution_count": 35,
   "id": "029e435b",
   "metadata": {},
   "outputs": [
    {
     "data": {
      "text/plain": [
       "True"
      ]
     },
     "execution_count": 35,
     "metadata": {},
     "output_type": "execute_result"
    }
   ],
   "source": [
    "#¿Aula3 comparte el mismo objeto que aula1?\n",
    "aula3 is aula1"
   ]
  },
  {
   "cell_type": "code",
   "execution_count": 36,
   "id": "3a5dfd2c",
   "metadata": {},
   "outputs": [
    {
     "data": {
      "text/plain": [
       "False"
      ]
     },
     "execution_count": 36,
     "metadata": {},
     "output_type": "execute_result"
    }
   ],
   "source": [
    "#aula3 comparte el mismo objeto que aula2?\n",
    "aula3 is aula2"
   ]
  },
  {
   "cell_type": "code",
   "execution_count": 37,
   "id": "e9e17036",
   "metadata": {},
   "outputs": [
    {
     "data": {
      "text/plain": [
       "False"
      ]
     },
     "execution_count": 37,
     "metadata": {},
     "output_type": "execute_result"
    }
   ],
   "source": [
    "#aula2 comparte el mismo objeto que aula1?\n",
    "aula2 is aula1"
   ]
  },
  {
   "cell_type": "code",
   "execution_count": 39,
   "id": "29c7daf5",
   "metadata": {},
   "outputs": [],
   "source": [
    "#agregamos un alumno al aula1]]\n",
    "aula1.append(\"diego\")"
   ]
  },
  {
   "cell_type": "code",
   "execution_count": 40,
   "id": "74df3d6b",
   "metadata": {},
   "outputs": [
    {
     "name": "stdout",
     "output_type": "stream",
     "text": [
      "['Juan', 'Daniel', 'Ruben', 'diego', 'diego']\n"
     ]
    }
   ],
   "source": [
    "print(aula1)"
   ]
  },
  {
   "cell_type": "code",
   "execution_count": 41,
   "id": "d91bf3b3",
   "metadata": {},
   "outputs": [],
   "source": [
    "aula1.append(\"Carlos\")"
   ]
  },
  {
   "cell_type": "code",
   "execution_count": 42,
   "id": "936836bc",
   "metadata": {},
   "outputs": [
    {
     "name": "stdout",
     "output_type": "stream",
     "text": [
      "['Juan', 'Daniel', 'Ruben', 'diego', 'diego', 'Carlos']\n"
     ]
    }
   ],
   "source": [
    "print(aula1)"
   ]
  },
  {
   "cell_type": "code",
   "execution_count": 43,
   "id": "89553db8",
   "metadata": {},
   "outputs": [
    {
     "name": "stdout",
     "output_type": "stream",
     "text": [
      "['Juan', 'Daniel', 'Ruben', 'diego', 'diego', 'Carlos']\n"
     ]
    }
   ],
   "source": [
    "print(aula3)"
   ]
  },
  {
   "cell_type": "code",
   "execution_count": 44,
   "id": "6cf970ad",
   "metadata": {},
   "outputs": [
    {
     "name": "stdout",
     "output_type": "stream",
     "text": [
      "['Juan', 'Daniel', 'Ruben']\n"
     ]
    }
   ],
   "source": [
    "print(aula2)"
   ]
  },
  {
   "cell_type": "code",
   "execution_count": 45,
   "id": "b83442ab",
   "metadata": {},
   "outputs": [],
   "source": [
    "aula3 = aula2"
   ]
  },
  {
   "cell_type": "code",
   "execution_count": 46,
   "id": "3809a3fd",
   "metadata": {},
   "outputs": [
    {
     "name": "stdout",
     "output_type": "stream",
     "text": [
      "['Juan', 'Daniel', 'Ruben']\n"
     ]
    }
   ],
   "source": [
    "print(aula3)"
   ]
  },
  {
   "cell_type": "code",
   "execution_count": 47,
   "id": "8413fd3a",
   "metadata": {},
   "outputs": [],
   "source": [
    "aula3.append(\"Doroteo\")"
   ]
  },
  {
   "cell_type": "code",
   "execution_count": 48,
   "id": "844a2fc2",
   "metadata": {},
   "outputs": [
    {
     "name": "stdout",
     "output_type": "stream",
     "text": [
      "['Juan', 'Daniel', 'Ruben', 'Doroteo']\n"
     ]
    }
   ],
   "source": [
    "print(aula2)"
   ]
  },
  {
   "cell_type": "code",
   "execution_count": null,
   "id": "7ea2ba71",
   "metadata": {},
   "outputs": [],
   "source": []
  }
 ],
 "metadata": {
  "kernelspec": {
   "display_name": "Python 3 (ipykernel)",
   "language": "python",
   "name": "python3"
  },
  "language_info": {
   "codemirror_mode": {
    "name": "ipython",
    "version": 3
   },
   "file_extension": ".py",
   "mimetype": "text/x-python",
   "name": "python",
   "nbconvert_exporter": "python",
   "pygments_lexer": "ipython3",
   "version": "3.9.7"
  }
 },
 "nbformat": 4,
 "nbformat_minor": 5
}
