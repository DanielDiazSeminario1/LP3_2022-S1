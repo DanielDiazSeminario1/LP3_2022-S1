{
 "cells": [
  {
   "cell_type": "markdown",
   "id": "2b84d9ff",
   "metadata": {},
   "source": [
    "# SEMANA 05\n",
    "Daniel Diaz Seminario"
   ]
  },
  {
   "cell_type": "markdown",
   "id": "dc9db821",
   "metadata": {},
   "source": [
    "Temas"
   ]
  },
  {
   "cell_type": "markdown",
   "id": "0ebe3fe5",
   "metadata": {},
   "source": [
    "1. Números\n",
    "2. Variables\n",
    "3. Manejo de Cadenas\n",
    "4. Ingreso de datos por teclado\n",
    "5. Operadores"
   ]
  },
  {
   "cell_type": "markdown",
   "id": "927e6470",
   "metadata": {},
   "source": [
    "Tema"
   ]
  },
  {
   "cell_type": "markdown",
   "id": "d755408e",
   "metadata": {},
   "source": [
    "4. Ingreso de datos por el teclado"
   ]
  },
  {
   "cell_type": "code",
   "execution_count": 1,
   "id": "6b56e506",
   "metadata": {},
   "outputs": [
    {
     "name": "stdout",
     "output_type": "stream",
     "text": [
      "¿Cuál es tu nombre?\n",
      "Daniel\n",
      "hola Daniel\n"
     ]
    }
   ],
   "source": [
    "#Función input()\n",
    "print(\"¿Cuál es tu nombre?\")\n",
    "nombre = input()\n",
    "print(\"hola \"+nombre)"
   ]
  },
  {
   "cell_type": "code",
   "execution_count": 2,
   "id": "f34f430e",
   "metadata": {},
   "outputs": [
    {
     "name": "stdout",
     "output_type": "stream",
     "text": [
      "numero1: \n",
      "5\n",
      "numero2: \n",
      "3\n",
      "el resultado es: 8\n"
     ]
    }
   ],
   "source": [
    "#cuando ingresar un valor por teclado lo hace como cadena\n",
    "print(\"numero1: \")\n",
    "numero1 = input()\n",
    "print(\"numero2: \")\n",
    "numero2 = input()\n",
    "numero3 = int(numero1)+int(numero2)\n",
    "print(f\"el resultado es: {numero3}\")"
   ]
  },
  {
   "cell_type": "code",
   "execution_count": null,
   "id": "a395c114",
   "metadata": {},
   "outputs": [],
   "source": []
  }
 ],
 "metadata": {
  "kernelspec": {
   "display_name": "Python 3 (ipykernel)",
   "language": "python",
   "name": "python3"
  },
  "language_info": {
   "codemirror_mode": {
    "name": "ipython",
    "version": 3
   },
   "file_extension": ".py",
   "mimetype": "text/x-python",
   "name": "python",
   "nbconvert_exporter": "python",
   "pygments_lexer": "ipython3",
   "version": "3.9.7"
  }
 },
 "nbformat": 4,
 "nbformat_minor": 5
}
